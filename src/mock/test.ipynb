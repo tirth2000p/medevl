{
 "cells": [
  {
   "cell_type": "code",
   "execution_count": 1,
   "metadata": {
    "pycharm": {
     "name": "#%%\n"
    }
   },
   "outputs": [],
   "source": [
    "import spacy\n",
    "import json\n",
    "import os\n",
    "import re\n",
    "\n",
    "\n",
    "# from negspacy.negation import Negex\n",
    "\n",
    "from scispacy.linking import EntityLinker\n",
    "from scispacy.abbreviation import AbbreviationDetector"
   ]
  },
  {
   "cell_type": "code",
   "execution_count": 2,
   "metadata": {},
   "outputs": [
    {
     "name": "stderr",
     "output_type": "stream",
     "text": [
      "c:\\Users\\kugel\\Documents\\cmsc files\\capstone\\CS-23-302-Software-platform-to-rate-clinical-notes-by-medical-students\\scispacy_env\\lib\\site-packages\\sklearn\\base.py:329: UserWarning: Trying to unpickle estimator TfidfTransformer from version 0.20.3 when using version 1.1.3. This might lead to breaking code or invalid results. Use at your own risk. For more info please refer to:\n",
      "https://scikit-learn.org/stable/model_persistence.html#security-maintainability-limitations\n",
      "  warnings.warn(\n",
      "c:\\Users\\kugel\\Documents\\cmsc files\\capstone\\CS-23-302-Software-platform-to-rate-clinical-notes-by-medical-students\\scispacy_env\\lib\\site-packages\\sklearn\\base.py:329: UserWarning: Trying to unpickle estimator TfidfVectorizer from version 0.20.3 when using version 1.1.3. This might lead to breaking code or invalid results. Use at your own risk. For more info please refer to:\n",
      "https://scikit-learn.org/stable/model_persistence.html#security-maintainability-limitations\n",
      "  warnings.warn(\n"
     ]
    }
   ],
   "source": [
    "# setting up nlp pipeline\n",
    "# nlp = medspacy.load()\n",
    "nlp = spacy.load(\"en_core_sci_sm\")\n",
    "nlp.add_pipe(\"abbreviation_detector\")\n",
    "nlp.add_pipe(\"scispacy_linker\", config={\"resolve_abbreviations\": True, \"linker_name\": \"umls\"})\n",
    "\n",
    "\n",
    "test_string_1 = \"\"\"Myocardial infarction (MI), colloquially known as \"heart attack,\"\n",
    "is caused by decreased or complete cessation of blood flow to a portion of the myocardium. \n",
    "Myocardial infarction may be \"silent,\" and go undetected, or it could be a catastrophic event\n",
    "leading to hemodynamic deterioration and sudden death. Most myocardial infarctions are due to \n",
    "underlying coronary artery disease, the leading cause of death in the United States. \n",
    "With coronary artery occlusion, the myocardium is deprived of oxygen. \n",
    "Prolonged deprivation of oxygen supply to the myocardium can lead to myocardial cell death and necrosis. \n",
    "Patients can present with chest discomfort or pressure that can radiate to the neck, \n",
    "jaw, shoulder, or arm. In addition to the history and physical exam, myocardial ischemia \n",
    "may be associated with ECG changes and elevated biochemical markers such as cardiac troponins. \n",
    "This activity describes the pathophysiology, evaluation, and management of myocardial infarction \n",
    "and highlights the role of the interprofessional team in improving care for affected patients. Hypertension\"\"\"\n",
    "\n",
    "test_string_2 = \"\"\"Hypertension\"\"\"\n",
    "\n",
    "test_string_3 = \"\"\n"
   ]
  },
  {
   "cell_type": "code",
   "execution_count": 8,
   "metadata": {},
   "outputs": [],
   "source": [
    "# call to set the case of the file, which will fill cuis list with relevant information\n",
    "def set_case(case, section):\n",
    "    with open(\"config.json\") as json_file:\n",
    "        cases = json.load(json_file)\n",
    "    rules_fail = cases[case.lower()][section.lower()][\"fail\"]\n",
    "    rules_review = cases[case.lower()][section.lower()][\"review\"]\n",
    "    return (rules_fail, rules_review)"
   ]
  },
  {
   "cell_type": "code",
   "execution_count": 4,
   "metadata": {},
   "outputs": [],
   "source": [
    "# search by cuis\n",
    "def cui_search(nlp_doc, rule):\n",
    "    term_name = rule[\"name\"]\n",
    "    search_cuis = rule[\"cuis\"]\n",
    "    for entity in nlp_doc.ents:\n",
    "        for umls_ent in entity._.kb_ents:\n",
    "            for cui in search_cuis:\n",
    "                if umls_ent[0] == cui[0]:\n",
    "                    continue\n",
    "                else:\n",
    "                    return [False, term_name]\n",
    "    \n",
    "    return [True, term_name]"
   ]
  },
  {
   "cell_type": "code",
   "execution_count": 10,
   "metadata": {},
   "outputs": [],
   "source": [
    "# search by term using regex\n",
    "def term_search(text, rule):\n",
    "    print(rule[\"name\"])\n",
    "    print(rule[\"term\"])\n",
    "    term_name = rule[\"name\"]\n",
    "    search_term = rule[\"term\"]\n",
    "    if re.search(search_term, text, re.IGNORECASE):\n",
    "        print(f\"Search successful, {term_name}\")\n",
    "        return [True, term_name]\n",
    "    else :\n",
    "        print(f\"Search unsuccessful, {term_name}\")\n",
    "        return [False, term_name]"
   ]
  },
  {
   "cell_type": "code",
   "execution_count": 9,
   "metadata": {},
   "outputs": [],
   "source": [
    "def check(case, section, text):\n",
    "    rules_fail, rules_review = set_case(case, section)\n",
    "    # do nlp on text\n",
    "    doc = nlp(text)\n",
    "    pass_conditions = []\n",
    "    # check terms needed to review first\n",
    "    # for each rule needed to not fail\n",
    "    for rule in rules_fail:\n",
    "        # if searching by cui\n",
    "        if 'cuis' in rule:\n",
    "            flag = cui_search(doc, rule)\n",
    "            if flag[0] == False: \n",
    "                flag.append(\"Fail\")\n",
    "                pass_conditions.append(flag)\n",
    "                return pass_conditions\n",
    "            else:\n",
    "                flag.append(\"Needs review\")\n",
    "\n",
    "        # if searching by regex\n",
    "        if 'term' in rule:\n",
    "            flag = term_search(text, rule)\n",
    "            if flag[0] == False: \n",
    "                flag.append(\"Fail\")\n",
    "                pass_conditions.append(flag)\n",
    "                return pass_conditions\n",
    "            else: \n",
    "                flag.append(\"Needs review\")\n",
    "            \n",
    "    \n",
    "    # for each rule needed to pass without review\n",
    "    for rule in rules_review:\n",
    "        # collecting the status of each term we're searching for\n",
    "        \n",
    "        # if searching by cui\n",
    "        if 'cuis' in rule:\n",
    "            flag = cui_search(doc, rule)\n",
    "            if flag[0] == True:\n",
    "                flag.append(\"Pass\")\n",
    "            else: \n",
    "                flag.append(\"Needs review\")\n",
    "            pass_conditions.append(flag)\n",
    "            \n",
    "        # if searching by regex\n",
    "        if 'term' in rule:\n",
    "            flag = term_search(text, rule)\n",
    "            if flag[0] == True:\n",
    "                flag.append(\"Pass\")\n",
    "            else: \n",
    "                flag.append(\"Needs review\")\n",
    "            pass_conditions.append(flag)\n",
    "        \n",
    "    # if all terms found, flag to pass without review\n",
    "    if all(flag == True for (flag, _, _,) in pass_conditions):\n",
    "        return {True, \"All terms found\", \"Pass\"}\n",
    "    \n",
    "    # otherwise, return missing terms\n",
    "    else:\n",
    "        missing = []\n",
    "        for term in pass_conditions:\n",
    "            if term[0] == False:\n",
    "                missing.append(term)\n",
    "        return missing\n"
   ]
  },
  {
   "cell_type": "code",
   "execution_count": 11,
   "metadata": {},
   "outputs": [
    {
     "name": "stdout",
     "output_type": "stream",
     "text": [
      "hypertension\n",
      "hypertension\n",
      "Search successful, hypertension\n",
      "myocardial infarction\n",
      "(myocardial)\\s+(infarction)\n",
      "Search successful, myocardial infarction\n",
      "hypertension\n",
      "hypertension\n",
      "Search successful, hypertension\n",
      "myocardial infarction\n",
      "(myocardial)\\s+(infarction)\n",
      "Search unsuccessful, myocardial infarction\n",
      "hypertension\n",
      "hypertension\n",
      "Search unsuccessful, hypertension\n",
      "{True, 'Pass', 'All terms found'}\n",
      "[[False, 'myocardial infarction', 'Needs review']]\n",
      "[[False, 'hypertension', 'Fail']]\n"
     ]
    }
   ],
   "source": [
    "flag_1 = check(\"cage\", \"subjective\", test_string_1)\n",
    "flag_2 = check(\"cage\", \"subjective\", test_string_2)\n",
    "flag_3 = check(\"cage\", \"subjective\", test_string_3)\n",
    "print(flag_1)\n",
    "print(flag_2)\n",
    "print(flag_3)"
   ]
  }
 ],
 "metadata": {
  "kernelspec": {
   "display_name": "Python 3.8.3 ('scispacy_env': venv)",
   "language": "python",
   "name": "python3"
  },
  "language_info": {
   "codemirror_mode": {
    "name": "ipython",
    "version": 3
   },
   "file_extension": ".py",
   "mimetype": "text/x-python",
   "name": "python",
   "nbconvert_exporter": "python",
   "pygments_lexer": "ipython3",
   "version": "3.8.3"
  },
  "orig_nbformat": 4,
  "vscode": {
   "interpreter": {
    "hash": "f99eaf649067ac02ce6b92892e346f662c771a0ab2ddab717b3b9a05bb90cc90"
   }
  }
 },
 "nbformat": 4,
 "nbformat_minor": 2
}
