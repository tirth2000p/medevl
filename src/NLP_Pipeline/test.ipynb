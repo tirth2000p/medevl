{
 "cells": [
  {
   "cell_type": "code",
   "execution_count": 7,
   "metadata": {},
   "outputs": [
    {
     "name": "stderr",
     "output_type": "stream",
     "text": [
      "c:\\Users\\kugel\\Documents\\cmsc files\\capstone\\CS-23-302-Software-platform-to-rate-clinical-notes-by-medical-students\\scispacy_env\\lib\\site-packages\\sklearn\\base.py:329: UserWarning: Trying to unpickle estimator TfidfTransformer from version 0.20.3 when using version 1.1.3. This might lead to breaking code or invalid results. Use at your own risk. For more info please refer to:\n",
      "https://scikit-learn.org/stable/model_persistence.html#security-maintainability-limitations\n",
      "  warnings.warn(\n",
      "c:\\Users\\kugel\\Documents\\cmsc files\\capstone\\CS-23-302-Software-platform-to-rate-clinical-notes-by-medical-students\\scispacy_env\\lib\\site-packages\\sklearn\\base.py:329: UserWarning: Trying to unpickle estimator TfidfVectorizer from version 0.20.3 when using version 1.1.3. This might lead to breaking code or invalid results. Use at your own risk. For more info please refer to:\n",
      "https://scikit-learn.org/stable/model_persistence.html#security-maintainability-limitations\n",
      "  warnings.warn(\n"
     ]
    }
   ],
   "source": [
    "import scispacy\n",
    "import spacy\n",
    "\n",
    "# from negspacy.negation import Negex\n",
    "\n",
    "from scispacy.linking import EntityLinker\n",
    "\n",
    "nlp = spacy.load(\"en_core_sci_sm\")\n",
    "# nlp.add_pipe(\"negex\")\n",
    "nlp.add_pipe(\"scispacy_linker\", config={\"resolve_abbreviations\": True, \"linker_name\": \"umls\"})\n",
    "text = \"\"\"\n",
    "Myeloid derived suppressor cells (MDSC) aren't immature \n",
    "myeloid cells with immunosuppressive activity. \n",
    "They accumulate in tumor-bearing mice and humans \n",
    "with different types of cancer, including hepatocellular \n",
    "carcinoma (HCC).\n",
    "\"\"\"\n"
   ]
  },
  {
   "cell_type": "code",
   "execution_count": 12,
   "metadata": {},
   "outputs": [
    {
     "name": "stdout",
     "output_type": "stream",
     "text": [
      "[\n",
      "Myeloid derived suppressor cells (MDSC) aren't immature \n",
      "myeloid cells with immunosuppressive activity., \n",
      "They accumulate in tumor-bearing mice and humans \n",
      "with different types of cancer, including hepatocellular \n",
      "carcinoma (HCC)., \n",
      "]\n",
      "(MDSC, myeloid cells, immunosuppressive activity, accumulate, tumor-bearing mice, humans, cancer, hepatocellular \n",
      "carcinoma, HCC)\n"
     ]
    }
   ],
   "source": [
    "doc = nlp(text)\n",
    "def check(text):\n",
    "    print(list(doc.sents))\n",
    "    print(doc.ents)\n",
    "\n",
    "\n",
    "check(text)"
   ]
  },
  {
   "cell_type": "code",
   "execution_count": 13,
   "metadata": {},
   "outputs": [
    {
     "name": "stdout",
     "output_type": "stream",
     "text": [
      "Name:  myeloid cells\n",
      "CUI: C0887899, Name: Myeloid Cells\n",
      "Definition: The classes of BONE MARROW-derived blood cells in the monocytic series (MONOCYTES and their precursors) and granulocytic series (GRANULOCYTES and their precursors).\n",
      "TUI(s): T025\n",
      "Aliases: (total: 6): \n",
      "\t Cells, Myeloid, Myeloid Cells, myeloid cell, myeloid cells, Myeloid Cell, Cell, Myeloid\n",
      "CUI: C0596993, Name: Myeloid Progenitor Cells\n",
      "Definition: A hematopoietic stem cell found in the bone marrow that is committed to form erythrocytes, megakaryocytes, and all leukocytes except lymphocytes.\n",
      "TUI(s): T025\n",
      "Aliases (abbreviated, total: 17): \n",
      "\t Bone Marrow Myeloid Stem Cell, Cell, Myeloid Stem, Cells, Myeloid Stem, stem cells myeloid, Myeloid Stem Cells, Myeloid Progenitor Cell, Myeloid cell, Progenitor Cells, Myeloid, Stem Cell, Myeloid, Myeloid Progenitor Cells\n",
      "CUI: C4321406, Name: Myeloid Progenitor Cell Count\n",
      "Definition: The determination of the number of myeloid progenitor cells in a sample.\n",
      "TUI(s): T059\n",
      "Aliases: (total: 3): \n",
      "\t MYPC, Myeloid Progenitor Cell Count, Myeloid Progenitor Cells\n",
      "CUI: C0439677, Name: Myeloid\n",
      "Definition: Having to do with or resembling the bone marrow. May also refer to certain types of hematopoietic (blood-forming) cells found in the bone marrow. Sometimes used as a synonym for myelogenous; for example, acute myeloid leukemia and acute myelogenous leukemia are the same disease.\n",
      "TUI(s): T080\n",
      "Aliases: (total: 5): \n",
      "\t myelogenous, Myeloid, myeloid, Myelogenous, Myeloid (qualifier value)\n",
      "CUI: C0027022, Name: Myeloproliferative disease\n",
      "Definition: Conditions which cause proliferation of hemopoietically active tissue or of tissue which has embryonic hemopoietic potential. They all involve dysregulation of multipotent MYELOID PROGENITOR CELLS, most often caused by a mutation in the JAK2 PROTEIN TYROSINE KINASE.\n",
      "TUI(s): T191\n",
      "Aliases (abbreviated, total: 22): \n",
      "\t MYELOPROLIFERATIVE DISORDER, Disorder, Myeloproliferative, Myeloproliferative neoplasms, Myeloproliferative disease, NOS, Myeloproliferative disorder, disorder myeloproliferative, Myeloproliferative Disorders, Proliferation of myeloid cells, DISORDER MYELOPROLIFERATIVE, myeloproliferative neoplasm\n"
     ]
    }
   ],
   "source": [
    "# Let's look at a random entity!\n",
    "entity = doc.ents[1]\n",
    "print(\"Name: \", entity)\n",
    "\n",
    "# Each entity is linked to UMLS with a score\n",
    "# (currently just char-3gram matching).\n",
    "linker = nlp.get_pipe(\"scispacy_linker\")\n",
    "for umls_ent in entity._.kb_ents:\n",
    "\tprint(linker.kb.cui_to_entity[umls_ent[0]])"
   ]
  }
 ],
 "metadata": {
  "kernelspec": {
   "display_name": "Python 3.8.3 ('scispacy_env': venv)",
   "language": "python",
   "name": "python3"
  },
  "language_info": {
   "codemirror_mode": {
    "name": "ipython",
    "version": 3
   },
   "file_extension": ".py",
   "mimetype": "text/x-python",
   "name": "python",
   "nbconvert_exporter": "python",
   "pygments_lexer": "ipython3",
   "version": "3.8.3"
  },
  "orig_nbformat": 4,
  "vscode": {
   "interpreter": {
    "hash": "f99eaf649067ac02ce6b92892e346f662c771a0ab2ddab717b3b9a05bb90cc90"
   }
  }
 },
 "nbformat": 4,
 "nbformat_minor": 2
}
